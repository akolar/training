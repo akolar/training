{
 "metadata": {
  "name": "",
  "signature": "sha256:de0d2154a637e2c6434e73f0d0636b1e2c2e44e54d096177f41302ed78563f7f"
 },
 "nbformat": 3,
 "nbformat_minor": 0,
 "worksheets": []
}