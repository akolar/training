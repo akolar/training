{
 "metadata": {
  "name": "",
  "signature": "sha256:88f7bdbe7771759dd51e8e50b3de1e0c27b68416098d3e6e84201d5be7e20ef5"
 },
 "nbformat": 3,
 "nbformat_minor": 0,
 "worksheets": [
  {
   "cells": [
    {
     "cell_type": "code",
     "collapsed": false,
     "input": [
      "import random\n",
      "import pint\n",
      "\n",
      "ureg = pint.UnitRegistry()"
     ],
     "language": "python",
     "metadata": {},
     "outputs": [],
     "prompt_number": 12
    },
    {
     "cell_type": "code",
     "collapsed": false,
     "input": [
      "values = [random.random() * ureg.meter for i in range(7000)]\n",
      "values_np = [v.magnitude for v in values]"
     ],
     "language": "python",
     "metadata": {},
     "outputs": [],
     "prompt_number": 13
    },
    {
     "cell_type": "code",
     "collapsed": false,
     "input": [
      "def _average_values(values, interval=120):\n",
      "    averages = [values[0]]\n",
      "    for i, value in enumerate(values[1:], 1):\n",
      "        if i > interval:\n",
      "            averages.append(sum(values[i - interval:i]) / interval)\n",
      "        else:\n",
      "            averages.append(sum(values[0:i]) / i)\n",
      "\n",
      "    return averages\n"
     ],
     "language": "python",
     "metadata": {},
     "outputs": [],
     "prompt_number": 14
    },
    {
     "cell_type": "code",
     "collapsed": false,
     "input": [
      "%%timeit\n",
      "_average_values(values)"
     ],
     "language": "python",
     "metadata": {},
     "outputs": [
      {
       "output_type": "stream",
       "stream": "stdout",
       "text": [
        "1 loops, best of 3: 38.5 s per loop\n"
       ]
      }
     ],
     "prompt_number": 17
    },
    {
     "cell_type": "code",
     "collapsed": false,
     "input": [
      "%%timeit\n",
      "_average_values(values_np)"
     ],
     "language": "python",
     "metadata": {},
     "outputs": [
      {
       "output_type": "stream",
       "stream": "stdout",
       "text": [
        "100 loops, best of 3: 10.8 ms per loop\n"
       ]
      }
     ],
     "prompt_number": 16
    }
   ],
   "metadata": {}
  }
 ]
}